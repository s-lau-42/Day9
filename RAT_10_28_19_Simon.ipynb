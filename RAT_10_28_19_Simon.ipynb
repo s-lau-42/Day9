{
 "cells": [
  {
   "cell_type": "markdown",
   "metadata": {},
   "source": [
    "- linear regression: <br>\n",
    "with lin. reg. you try to find the best fitting line for a set of data. for the simple lin. reg. \n",
    "a normal line of shape $mx+b=y$ where y are the dependent values while the x are the dependent ones.\n",
    "the line is then best fitting, when the residue $y-y'$ is minimal ( $y'$ is the predicted value of our line).\n",
    "Most times though we will use the method of least squares to find a line, hence we will try to minimize $(y-y')^2$,\n",
    "also normalizing any negative values that could come up."
   ]
  },
  {
   "cell_type": "markdown",
   "metadata": {},
   "source": [
    "- multiple regression: <br>\n",
    "like above we try to find a best fitting line. However as the name indicates we are using multiple independent variables $x_{1} ... x_{n}$. The shape of the line basically stays the same , but for higher dimension. (We have to use $n$ dimensional matrices and vectors). $Mx+b=y$ , where x is a vector containing my $x_{i}$ values."
   ]
  },
  {
   "cell_type": "code",
   "execution_count": null,
   "metadata": {},
   "outputs": [],
   "source": []
  }
 ],
 "metadata": {
  "kernelspec": {
   "display_name": "Python [conda env:nf] *",
   "language": "python",
   "name": "conda-env-nf-py"
  },
  "language_info": {
   "codemirror_mode": {
    "name": "ipython",
    "version": 3
   },
   "file_extension": ".py",
   "mimetype": "text/x-python",
   "name": "python",
   "nbconvert_exporter": "python",
   "pygments_lexer": "ipython3",
   "version": "3.6.6"
  }
 },
 "nbformat": 4,
 "nbformat_minor": 2
}
